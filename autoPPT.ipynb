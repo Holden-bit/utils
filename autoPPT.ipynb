import os
import numpy as np
import pptx
from pptx.util import Inches

N = 3
WIDTH = Inches(9)/N
HEIGHT = Inches(7.5)/N
ppt_filename = input('输入目标ppt文件名(无需后缀)：')
full_ppt_filename = '{}.{}'.format(ppt_filename,'pptx')
ppt_file = pptx.Presentation()

filedir = './png'
pic_files = [fn for fn in os.listdir(filedir) if fn.endswith('.png')]
sorted_pic_files = sorted(pic_files, key=lambda item:int(item[3:item.rindex('.')]));
sildes_NUM = int(np.ceil(int(sorted_pic_files[-1][3:5])/9))

for slide_n in range(sildes_NUM):
    slide = ppt_file.slides.add_slide(ppt_file.slide_layouts[6])
    for i in range(N):
        for j in range(N):
            fn = os.path.join(filedir, pic_files[0][:-6]+"{idx:02d}.png".format(idx = slide_n*N*N+i*N+j+1))
#             print(fn)
            try:
                slide.shapes.add_picture(fn, Inches(0.5)+WIDTH*j, HEIGHT*i, WIDTH, HEIGHT)
            except FileNotFoundError:
                continue   
ppt_file.save(full_ppt_filename)
